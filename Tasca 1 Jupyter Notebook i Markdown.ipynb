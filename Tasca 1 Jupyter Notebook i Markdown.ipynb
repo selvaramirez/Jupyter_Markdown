{
 "cells": [
  {
   "cell_type": "markdown",
   "metadata": {},
   "source": [
    "# Tasca 1. Jupyter Notebook i Markdown"
   ]
  },
  {
   "cell_type": "markdown",
   "metadata": {
    "ExecuteTime": {
     "end_time": "2021-05-06T09:21:45.372441Z",
     "start_time": "2021-05-06T09:21:45.360724Z"
    }
   },
   "source": [
    "## Creació de variables"
   ]
  },
  {
   "cell_type": "code",
   "execution_count": 4,
   "metadata": {
    "ExecuteTime": {
     "end_time": "2021-05-06T09:22:36.313427Z",
     "start_time": "2021-05-06T09:22:36.303024Z"
    }
   },
   "outputs": [
    {
     "name": "stdout",
     "output_type": "stream",
     "text": [
      "Barcelona\n",
      "Tokio\n"
     ]
    }
   ],
   "source": [
    "''' Creació de variables ''' \n",
    "ciutat=\"Barcelona\"\n",
    "print(ciutat) \n",
    "\n",
    "destinació=\"Tokio\"\n",
    "ciutat= destinació \n",
    "\n",
    "print(ciutat)"
   ]
  },
  {
   "cell_type": "markdown",
   "metadata": {},
   "source": [
    "## Operacions matemàtiques senzilles"
   ]
  },
  {
   "cell_type": "code",
   "execution_count": 5,
   "metadata": {
    "ExecuteTime": {
     "end_time": "2021-05-06T09:23:18.000661Z",
     "start_time": "2021-05-06T09:23:17.996193Z"
    }
   },
   "outputs": [
    {
     "name": "stdout",
     "output_type": "stream",
     "text": [
      "25\n"
     ]
    }
   ],
   "source": [
    "x= 5\n",
    "result = x**2 \n",
    "print (result)"
   ]
  },
  {
   "cell_type": "code",
   "execution_count": 6,
   "metadata": {
    "ExecuteTime": {
     "end_time": "2021-05-06T09:23:37.423776Z",
     "start_time": "2021-05-06T09:23:37.418527Z"
    }
   },
   "outputs": [
    {
     "name": "stdout",
     "output_type": "stream",
     "text": [
      "Quotient is 12\n",
      "Remainder is 4\n"
     ]
    }
   ],
   "source": [
    "x = 24\n",
    "quotient = x // 2\n",
    "remainder = x % 5\n",
    "print (\"Quotient is\", quotient) \n",
    "print(\"Remainder is\", remainder)"
   ]
  },
  {
   "cell_type": "code",
   "execution_count": 7,
   "metadata": {
    "ExecuteTime": {
     "end_time": "2021-05-06T09:24:00.024441Z",
     "start_time": "2021-05-06T09:24:00.015788Z"
    }
   },
   "outputs": [
    {
     "name": "stdout",
     "output_type": "stream",
     "text": [
      "La matrícula amb el descompte és 8550.0\n"
     ]
    }
   ],
   "source": [
    "fee = 9500\n",
    "percentatge = 10\n",
    "descompte = (percentatge/100) * fee\n",
    "discounted_fee = fee - descompte\n",
    "print(\"La matrícula amb el descompte és\", discounted_fee)"
   ]
  },
  {
   "cell_type": "markdown",
   "metadata": {},
   "source": [
    "## Transformacions amb càsting"
   ]
  },
  {
   "cell_type": "code",
   "execution_count": 9,
   "metadata": {
    "ExecuteTime": {
     "end_time": "2021-05-06T09:24:52.885404Z",
     "start_time": "2021-05-06T09:24:52.880074Z"
    }
   },
   "outputs": [
    {
     "name": "stdout",
     "output_type": "stream",
     "text": [
      "Tenim dos números:\n",
      "j = 40\n",
      "k = 3.1415\n"
     ]
    }
   ],
   "source": [
    "j = 40\n",
    "k = 3.1415\n",
    "print(\"Tenim dos números:\") \n",
    "print(\"j = \" + str(j)) \n",
    "print(\"k = \" + str(k))"
   ]
  },
  {
   "cell_type": "code",
   "execution_count": 10,
   "metadata": {
    "ExecuteTime": {
     "end_time": "2021-05-06T09:25:15.076147Z",
     "start_time": "2021-05-06T09:25:15.071141Z"
    }
   },
   "outputs": [
    {
     "name": "stdout",
     "output_type": "stream",
     "text": [
      "369.8765\n"
     ]
    }
   ],
   "source": [
    "a = \"360\"\n",
    "b = \"9.8765\"\n",
    "c = int(a) + float(b) \n",
    "print(c)"
   ]
  },
  {
   "cell_type": "markdown",
   "metadata": {},
   "source": [
    "## Tècniques amb strings"
   ]
  },
  {
   "cell_type": "code",
   "execution_count": 13,
   "metadata": {
    "ExecuteTime": {
     "end_time": "2021-05-06T09:26:13.508950Z",
     "start_time": "2021-05-06T09:26:13.503748Z"
    }
   },
   "outputs": [
    {
     "name": "stdout",
     "output_type": "stream",
     "text": [
      "Ser-hi o no ser-hi, aquesta és la qüestió\n",
      "*********\n",
      "Ser-hi o no ser-hi, Ser-hi o no ser-hi, \n"
     ]
    }
   ],
   "source": [
    "# Concatenació\n",
    "frase_1 = \"Ser-hi o no ser-hi, \" \n",
    "frase_2 = \"aquesta és la qüestió\" \n",
    "print(frase_1 + frase_2)\n",
    "\n",
    "print (\"*********\") \n",
    "\n",
    "print (frase_1 * 2)"
   ]
  },
  {
   "cell_type": "code",
   "execution_count": 14,
   "metadata": {
    "ExecuteTime": {
     "end_time": "2021-05-06T09:27:26.919957Z",
     "start_time": "2021-05-06T09:27:26.904156Z"
    }
   },
   "outputs": [
    {
     "name": "stdout",
     "output_type": "stream",
     "text": [
      "la vida és simple, però insistim a fer-la complicada\n",
      "\n",
      "***\n",
      "\n",
      "LA VIDA ÉS SIMPLE, PERÒ INSISTIM A FER-LA COMPLICADA\n",
      "\n",
      "***\n",
      "\n",
      "12\n",
      "\n",
      "***\n",
      "\n",
      "6\n",
      "\n",
      "***\n",
      "\n",
      "La vida és simple, no obstant insistim a fer-la complicada\n",
      "\n",
      "***\n",
      "\n",
      "l\n",
      "\n",
      "***\n",
      "\n",
      "['La', 'vida', 'és', 'simple,', 'però', 'insistim', 'a', 'fer-la', 'complicada']\n",
      "\n",
      "***\n",
      "\n",
      "La vida és simple, \n",
      "però insistim a fer-la complicada\n"
     ]
    }
   ],
   "source": [
    "# Formats\n",
    "\n",
    "frase = \"La vida és simple, però insistim a fer-la complicada\" \n",
    "result = frase.lower()\n",
    "print(result)\n",
    "print('''\n",
    "***\n",
    "''')\n",
    "result = frase.upper() \n",
    "print(result)\n",
    "print('''\n",
    "***\n",
    "''')\n",
    "result = frase.find(\"simple\") \n",
    "print(result)\n",
    "print('''\n",
    "***\n",
    "''')\n",
    "result = frase.count(\"a\") \n",
    "print(result)\n",
    "print('''\n",
    "***\n",
    "''')\n",
    "result = frase.replace(\"però\", \"no obstant\") \n",
    "print(result)\n",
    "print('''\n",
    "***\n",
    "''')\n",
    "result = frase[16] \n",
    "print (result)\n",
    "print('''\n",
    "***\n",
    "''')\n",
    "result = frase.split() \n",
    "print(result)\n",
    "print('''\n",
    "***\n",
    "''')\n",
    "print(\"La vida és simple, \\nperò insistim a fer-la complicada\")"
   ]
  },
  {
   "cell_type": "markdown",
   "metadata": {},
   "source": [
    "## Booleans"
   ]
  },
  {
   "cell_type": "code",
   "execution_count": 16,
   "metadata": {
    "ExecuteTime": {
     "end_time": "2021-05-06T09:30:31.986378Z",
     "start_time": "2021-05-06T09:30:31.981766Z"
    }
   },
   "outputs": [
    {
     "name": "stdout",
     "output_type": "stream",
     "text": [
      "True\n"
     ]
    }
   ],
   "source": [
    "edat = 16\n",
    "result = False \n",
    "print (edat <= 18)"
   ]
  },
  {
   "cell_type": "code",
   "execution_count": 17,
   "metadata": {
    "ExecuteTime": {
     "end_time": "2021-05-06T09:30:49.610719Z",
     "start_time": "2021-05-06T09:30:49.605219Z"
    }
   },
   "outputs": [
    {
     "name": "stdout",
     "output_type": "stream",
     "text": [
      "False\n",
      "True\n",
      "False\n",
      "True\n"
     ]
    }
   ],
   "source": [
    "color = \"vermell\" \n",
    "print (color == \"Blau\")\n",
    "edat = 18\n",
    "print (edat <= 18)\n",
    "print (edat > 18)\n",
    "print (edat >= 18 and color == \"vermell\")"
   ]
  },
  {
   "cell_type": "markdown",
   "metadata": {},
   "source": [
    "## Exemple d'una imatge"
   ]
  },
  {
   "cell_type": "markdown",
   "metadata": {},
   "source": [
    "![Alt Text](https://miro.medium.com/max/80/0*PRNVc7bjff0Jj1pm.png )\n"
   ]
  },
  {
   "cell_type": "markdown",
   "metadata": {},
   "source": [
    "## Canvi estils de lletra amb Markdown\n",
    "### Llistes i subllistes\n",
    " - Ítem 1\n",
    "     - Ítem 2\n",
    "     - Ítem 3\n",
    "         - Subítem a\n",
    "         - Subítem b\n",
    "\n",
    "Format de la lletra:\n",
    "\n",
    "_texte en cursiva_\n",
    "\n",
    "**texte en bold**\n",
    "\n",
    "[Hipervincle a una web] (https://www.barcelonactiva.cat/)"
   ]
  },
  {
   "cell_type": "code",
   "execution_count": null,
   "metadata": {},
   "outputs": [],
   "source": []
  },
  {
   "cell_type": "code",
   "execution_count": null,
   "metadata": {},
   "outputs": [],
   "source": []
  }
 ],
 "metadata": {
  "hide_input": false,
  "kernelspec": {
   "display_name": "Python 3",
   "language": "python",
   "name": "python3"
  },
  "language_info": {
   "codemirror_mode": {
    "name": "ipython",
    "version": 3
   },
   "file_extension": ".py",
   "mimetype": "text/x-python",
   "name": "python",
   "nbconvert_exporter": "python",
   "pygments_lexer": "ipython3",
   "version": "3.8.5"
  },
  "latex_envs": {
   "LaTeX_envs_menu_present": true,
   "autoclose": false,
   "autocomplete": true,
   "bibliofile": "biblio.bib",
   "cite_by": "apalike",
   "current_citInitial": 1,
   "eqLabelWithNumbers": true,
   "eqNumInitial": 1,
   "hotkeys": {
    "equation": "Ctrl-E",
    "itemize": "Ctrl-I"
   },
   "labels_anchors": false,
   "latex_user_defs": false,
   "report_style_numbering": false,
   "user_envs_cfg": false
  },
  "nbTranslate": {
   "displayLangs": [
    "*"
   ],
   "hotkey": "alt-t",
   "langInMainMenu": true,
   "sourceLang": "en",
   "targetLang": "fr",
   "useGoogleTranslate": true
  },
  "toc": {
   "base_numbering": 1,
   "nav_menu": {},
   "number_sections": true,
   "sideBar": true,
   "skip_h1_title": false,
   "title_cell": "Table of Contents",
   "title_sidebar": "Contents",
   "toc_cell": false,
   "toc_position": {},
   "toc_section_display": true,
   "toc_window_display": false
  },
  "varInspector": {
   "cols": {
    "lenName": 16,
    "lenType": 16,
    "lenVar": 40
   },
   "kernels_config": {
    "python": {
     "delete_cmd_postfix": "",
     "delete_cmd_prefix": "del ",
     "library": "var_list.py",
     "varRefreshCmd": "print(var_dic_list())"
    },
    "r": {
     "delete_cmd_postfix": ") ",
     "delete_cmd_prefix": "rm(",
     "library": "var_list.r",
     "varRefreshCmd": "cat(var_dic_list()) "
    }
   },
   "types_to_exclude": [
    "module",
    "function",
    "builtin_function_or_method",
    "instance",
    "_Feature"
   ],
   "window_display": false
  }
 },
 "nbformat": 4,
 "nbformat_minor": 5
}
